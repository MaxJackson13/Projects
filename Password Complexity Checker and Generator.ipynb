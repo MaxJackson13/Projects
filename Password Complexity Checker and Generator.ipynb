{
 "cells": [
  {
   "cell_type": "code",
   "execution_count": 1,
   "metadata": {},
   "outputs": [
    {
     "data": {
      "text/plain": [
       "{'short_error': False,\n",
       " 'long_error': False,\n",
       " 'digit_error': False,\n",
       " 'uppercase_error': False,\n",
       " 'lowercase_error': False,\n",
       " 'special_error': True,\n",
       " 'consecutive_error': False,\n",
       " 'num_error': True,\n",
       " 'alpha_error': False}"
      ]
     },
     "execution_count": 1,
     "metadata": {},
     "output_type": "execute_result"
    }
   ],
   "source": [
    "import re\n",
    "\n",
    "def password_complexity(password):\n",
    "    \n",
    "    '''\n",
    "    Recent NIST guidelines state that strong password should be between 8 and 64 characters in length \n",
    "    and contain no repeating ('aaaa') or sequential ('1234') characters.\n",
    "    \n",
    "    NIST specifies complexity requirements should NOT be used, e.g. requiring special characters, \n",
    "    numbers, uppercase, etc. but for the purpose of making this project more interesting we employ them \n",
    "    '''\n",
    "    \n",
    "    #check password is a string, riase typerror if not\n",
    "    if not isinstance(password, str):\n",
    "        raise TypeError('Inappropriate type: %s for password. A string is expected' %type(password))\n",
    "    \n",
    "    #check password is at least 8 characters\n",
    "    short_error = len(password) < 8\n",
    "\n",
    "    #check password is at most 64 characters    \n",
    "    long_error = len(password) > 64\n",
    "    \n",
    "    #check password contains a digit 0-9\n",
    "    digit_error = re.search(r'\\d', password) is None\n",
    "    \n",
    "    #check password contains a lower case letter a-z\n",
    "    lowercase_error = re.search(r'[a-z]', password) is None\n",
    "    \n",
    "    #check password contains an upper case letter A-Z\n",
    "    uppercase_error = re.search(r'[A-Z]', password) is None\n",
    "    \n",
    "    #check password contains a special character, any character not a-z, A-z, 0-9\n",
    "    special_error = re.search(r'\\W', password) is None\n",
    "    \n",
    "    #check password does not contain a consecutive block of length 3 or more, of the same character \n",
    "    consecutive_error = re.search(r'(.)\\1{2,}', password) is not None\n",
    "        \n",
    "        \n",
    "    #we now check the password contains no numeric or alphabetic sequential blocks of length 4 or more\n",
    "    #e.g 1234, 87654, lmnop, zyxwvu\n",
    "    num_seq = '0123456789'\n",
    "    alpha_seq = 'abcdefghijklmnopqrstuvwxyz'\n",
    "\n",
    "    num_error = False     #we use these to indicate the presence of sequential numerical and alphabetical errors                         \n",
    "    alpha_error = False   #respectively, and terminate the loop if/once the respective error has been detected\n",
    "    \n",
    "    for k in range(4, len(password)+1): #loop through the password in blocks of size 4, 5, ... up to the entire             \n",
    "        i=0                             #password and check if the block is contained in 0-9, 9-0, a-z or z-a\n",
    "        while i+k <= len(password):\n",
    "            if (password[i:i+k] in num_seq or password[i:i+k] in num_seq[::-1]) and not num_error:\n",
    "                num_error = True\n",
    "            if (password[i:i+k] in alpha_seq or password[i:i+k] in alpha_seq[::-1]) and not alpha_error:\n",
    "                alpha_error = True\n",
    "            i+=1\n",
    "        \n",
    "    return {\n",
    "        #'password_ok' : password_ok,\n",
    "        'short_error' : short_error,\n",
    "        'long_error' : long_error,\n",
    "        'digit_error' : digit_error,\n",
    "        'uppercase_error' : uppercase_error,\n",
    "        'lowercase_error' : lowercase_error,\n",
    "        'special_error' : special_error,\n",
    "        'consecutive_error' : consecutive_error,\n",
    "        'num_error' : num_error,\n",
    "        'alpha_error' : alpha_error\n",
    "    }\n",
    "\n",
    "password_complexity('StAndrews1234')\n",
    "\n"
   ]
  },
  {
   "cell_type": "code",
   "execution_count": 2,
   "metadata": {},
   "outputs": [
    {
     "data": {
      "text/plain": [
       "\"ElJFxRSxcL6ro'*jQEC'}SJfI\""
      ]
     },
     "execution_count": 2,
     "metadata": {},
     "output_type": "execute_result"
    }
   ],
   "source": [
    "import random\n",
    "import string\n",
    "\n",
    "def password_generator():\n",
    "    #randomise length of password between 8 and 64 characters\n",
    "    length = random.randint(8, 64)\n",
    "    \n",
    "    password = ''\n",
    "    \n",
    "    #randomly choose an upper or lowercase letter, digit or special character at random. The probability of choosing \n",
    "    #each type of character is in proportion to the relative frequency of that character type.\n",
    "    for i in range(length):\n",
    "        letters = string.ascii_letters\n",
    "        digits = string.digits\n",
    "        punctuation = string.punctuation\n",
    "\n",
    "        total_characters = len(letters + digits + punctuation)\n",
    "\n",
    "        prop_1 = len(letters) / total_characters\n",
    "        prop_2 = len(letters + digits) / total_characters\n",
    "\n",
    "        rand = random.random()\n",
    "\n",
    "        if rand < prop_1:\n",
    "            password += random.choice(letters)\n",
    "        elif rand < prop_2:\n",
    "            password += random.choice(digits)\n",
    "        else: \n",
    "            password += random.choice(punctuation)\n",
    "\n",
    "    return password\n",
    "\n",
    "password_generator()"
   ]
  },
  {
   "cell_type": "code",
   "execution_count": null,
   "metadata": {},
   "outputs": [],
   "source": []
  }
 ],
 "metadata": {
  "kernelspec": {
   "display_name": "Python 3",
   "language": "python",
   "name": "python3"
  },
  "language_info": {
   "codemirror_mode": {
    "name": "ipython",
    "version": 3
   },
   "file_extension": ".py",
   "mimetype": "text/x-python",
   "name": "python",
   "nbconvert_exporter": "python",
   "pygments_lexer": "ipython3",
   "version": "3.7.4"
  }
 },
 "nbformat": 4,
 "nbformat_minor": 2
}
