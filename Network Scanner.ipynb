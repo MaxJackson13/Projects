{
 "cells": [
  {
   "cell_type": "code",
   "execution_count": 2,
   "metadata": {},
   "outputs": [],
   "source": [
    "# Import subprocess to execute terminal commands in python \n",
    "# and psutil to retrieve system and process information\n",
    "\n",
    "import subprocess\n",
    "import psutil"
   ]
  },
  {
   "cell_type": "code",
   "execution_count": 18,
   "metadata": {},
   "outputs": [
    {
     "data": {
      "text/plain": [
       "['192.168.0.1',\n",
       " '192.168.0.10',\n",
       " '192.168.0.14',\n",
       " '192.168.0.20',\n",
       " '192.168.0.25',\n",
       " '192.168.0.27',\n",
       " '192.168.0.33',\n",
       " '192.168.0.42',\n",
       " '192.168.0.43',\n",
       " '192.168.0.50']"
      ]
     },
     "execution_count": 18,
     "metadata": {},
     "output_type": "execute_result"
    }
   ],
   "source": [
    "# use subprocess to execute the terminal command ' ipconfig getifaddr en0'\n",
    "# which retieves the devices private ip. The output is a byte string so\n",
    "# we need to apply utf-8 decoding, and .strip() removes the newline character\n",
    "# since the terminal automatically starts a newline once the previous command has run\n",
    "\n",
    "my_private_ip = subprocess.check_output(['ipconfig', 'getifaddr', 'en0']).decode('utf-8').strip()\n",
    "\n",
    "# create a list to store the reachable network devices\n",
    "\n",
    "network = []\n",
    "\n",
    "\n",
    "for i in range(1, 2**8-1):\n",
    "    \n",
    "    # extract the first three octets of the private address so we can append each integer 1-254 in sequence,\n",
    "    # creating all the valid subnet addresses\n",
    "    \n",
    "    ip = my_private_ip.rsplit('.', 1)[0] + '.' + str(i)\n",
    "    \n",
    "    # Use subprocess to ping each address with a single packet. We use psutil to give each host a \n",
    "    # time within which to reply to the ping otherwise we terminate the process and assume there is \n",
    "    # no host at this address. If we receieve a reply within the timeout period, append this ip \n",
    "    # address to the network list   \n",
    "    \n",
    "    try:\n",
    "        subp = subprocess.Popen(['ping', '-c', '1', ip])\n",
    "        p = psutil.Process(subp.pid)\n",
    "        try:\n",
    "            p.wait(timeout = 0.5)\n",
    "        except psutil.TimeoutExpired:\n",
    "            p.kill()\n",
    "            continue\n",
    "        network.append(ip)\n",
    "    except:\n",
    "        pass\n",
    "    \n",
    "network"
   ]
  }
 ],
 "metadata": {
  "kernelspec": {
   "display_name": "Python 3",
   "language": "python",
   "name": "python3"
  },
  "language_info": {
   "codemirror_mode": {
    "name": "ipython",
    "version": 3
   },
   "file_extension": ".py",
   "mimetype": "text/x-python",
   "name": "python",
   "nbconvert_exporter": "python",
   "pygments_lexer": "ipython3",
   "version": "3.7.4"
  }
 },
 "nbformat": 4,
 "nbformat_minor": 2
}
