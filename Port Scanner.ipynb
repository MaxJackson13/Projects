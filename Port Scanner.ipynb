{
 "cells": [
  {
   "cell_type": "code",
   "execution_count": 142,
   "metadata": {},
   "outputs": [],
   "source": [
    "#import regex and time modules and the Berkeley python socket API module\n",
    "import re\n",
    "import socket\n",
    "import time"
   ]
  },
  {
   "cell_type": "code",
   "execution_count": 151,
   "metadata": {},
   "outputs": [
    {
     "name": "stdout",
     "output_type": "stream",
     "text": [
      "192.168.0.25 is open on port 8000\n",
      "192.168.0.25 is open on port 8089\n",
      "192.168.0.25 is open on port 8191\n",
      "Scan completed in --- 0.021417856216430664 seconds ---\n",
      "192.168.0.19 is open on port 58286\n",
      "192.168.0.19 is open on port 62078\n",
      "Scan completed in --- 36.371845722198486 seconds ---\n",
      "192.168.0.1 is open on port 80\n",
      "192.168.0.1 is open on port 443\n",
      "Scan completed in --- 8.90802001953125 seconds ---\n",
      "www.google.com is open on port 80\n",
      "www.google.com is open on port 443\n",
      "Scan completed in --- 19.79768395423889 seconds ---\n"
     ]
    }
   ],
   "source": [
    "def port_scan(ip, lower_port, upper_port):\n",
    "    \n",
    "    # Use regex to specify format of IPv4 addresses an domain name\n",
    "    ipv4_pattern = re.compile('^((25[0-5]|(2[0-4]|1\\d|[1-9]|)\\d)\\.){3}(25[0-5]|(2[0-4]|1\\d|[1-9]|)\\d)$')\n",
    "    domain_pattern = re.compile('^([w]{3}\\.).+(\\.[a-zA-Z]{2,3})$')\n",
    "    \n",
    "    # If user ip input not a valid address or domain raise an error\n",
    "    if (not ipv4_pattern.search(ip)) and (not domain_pattern.search(ip)):\n",
    "        raise TypeError('not a valid IPv4 format, (must be 0-255.0-255.0-255.0-255), or not a valid domain name')\n",
    "    \n",
    "    # Check the ports are in the accepted range and lower_port < upper_port \n",
    "    if lower_port < 1 or upper_port > (2**16 - 1) or lower_port > upper_port:\n",
    "        raise ValueError('ports must be in range 1-65535 with lower port number less than the upper port number')\n",
    "    \n",
    "    # Create list to store open ports and record the start time\n",
    "    open_ports = [] \n",
    "    start_time = time.time()\n",
    "    \n",
    "    # Loop through each port\n",
    "    for port in range(lower_port, upper_port + 1):\n",
    "        try:\n",
    "            # Create an IPv4, TCP (tcp4) socket object\n",
    "            with socket.socket(socket.AF_INET, socket.SOCK_STREAM) as s:\n",
    "                \n",
    "                # Set a timeout for the socket to try and connect to the server.\n",
    "                # Put it at 0.05s. So for every port it scans it will allow 0.05s \n",
    "                # for a successful connection\n",
    "                s.settimeout(0.05)\n",
    "                \n",
    "                # Use the socket object to create a connection to the ip address and port number.\n",
    "                # If we can't connect it will cause an exception and the port will not be appended.\n",
    "                s.connect((ip, port))\n",
    "                open_ports.append(port)\n",
    "        except:\n",
    "            pass\n",
    "        \n",
    "    # Print the out the ports the ip address is open on \n",
    "    for port in open_ports:\n",
    "        print(ip + ' is open on port {}'.format(port))\n",
    "    \n",
    "    # Display the time taken for the scan to complete\n",
    "    print(\"Scan completed in --- %s seconds ---\" % (time.time() - start_time))\n",
    "    \n",
    "port_scan('192.168.0.25', 8000, 8200)\n",
    "port_scan('192.168.0.19', 58000, 63000)\n",
    "port_scan('192.168.0.1', 80, 443)\n",
    "port_scan('www.google.com', 80, 443)"
   ]
  },
  {
   "cell_type": "code",
   "execution_count": null,
   "metadata": {},
   "outputs": [],
   "source": []
  }
 ],
 "metadata": {
  "kernelspec": {
   "display_name": "Python 3",
   "language": "python",
   "name": "python3"
  },
  "language_info": {
   "codemirror_mode": {
    "name": "ipython",
    "version": 3
   },
   "file_extension": ".py",
   "mimetype": "text/x-python",
   "name": "python",
   "nbconvert_exporter": "python",
   "pygments_lexer": "ipython3",
   "version": "3.7.4"
  }
 },
 "nbformat": 4,
 "nbformat_minor": 2
}
